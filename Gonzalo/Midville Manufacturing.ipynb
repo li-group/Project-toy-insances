{
 "cells": [
  {
   "cell_type": "markdown",
   "metadata": {},
   "source": [
    "# Midville Manufacturing\n",
    "\n",
    "ref: Exercise 4.27, Optimization in Operations Research (2nd edition) by Ronald L. Rardin"
   ]
  },
  {
   "cell_type": "markdown",
   "metadata": {},
   "source": [
    "### Problem description:\n",
    "\n",
    "Midville Manufacturing assembles heavy duty materials handling carts to meet demand of 500 units in the first quarter of each year, 1200 in the second, 1000 in the third, and 300 in the fourth. Elementary components, which consist of wheels, steering yokes, and carrying platforms, are first assembled separately. Then each steering yoke is equipped with 4 wheels to form the front-end subassembly. Finally, front-end subassemblies are combined with a carrying platform and 8 additional wheels at the rear to complete the cart. Using j = 1 for steering yokes, j = 2 for wheels, j = 3 for platforms, j = 4 for front-end assemblies, and j = 5 for finished carts, the following table shows the estimated value of each element (in dollars) and the factory hours required to assemble it.\n",
    "\n",
    "Components, subassemblies, and finished carts produced in any quarter may be used or shipped in the same quarter or held over as inventory (including from the fourth quarter to the first) at 5% per quarter interest on the held value. Midville seeks a plan that minimizes these holding costs while conforming to the factory production capacity, 1150 hours per quarter.\n",
    "1. Formulate an LP model to choose a pro- duction plan using the decision variables (j = 1,...,5; q = 1,...,4) <br>\n",
    "x_{j,q} = number of units of element j produced in quarter q <br>\n",
    "h_{j,q} = number of units of element j held in inventory from quarter q to the next<br>\n",
    "Your model should include a system of main constraints for production capacity and an additional system for each element j to enforce material balance.\n",
    "2. Enter and solve your model with the class optimization software."
   ]
  },
  {
   "cell_type": "markdown",
   "metadata": {},
   "source": [
    "### Data\n",
    "\n",
    "| $~$      | Element 1 |   Element 2   |   Element 3   |   Element 4   |   Element 5   |\n",
    "|:--------:|:-------:|:-------:|:-------:|:-------:|:-------:|\n",
    "| Value    |   120   |  40   |  75   |  400   |  700  |\n",
    "| Time     |  0.06   |  0.07 |  0.04 |  0.12  |  0.32 |"
   ]
  }
 ],
 "metadata": {
  "kernelspec": {
   "display_name": "opti_chat",
   "language": "python",
   "name": "python3"
  },
  "language_info": {
   "codemirror_mode": {
    "name": "ipython",
    "version": 3
   },
   "file_extension": ".py",
   "mimetype": "text/x-python",
   "name": "python",
   "nbconvert_exporter": "python",
   "pygments_lexer": "ipython3",
   "version": "3.9.6"
  }
 },
 "nbformat": 4,
 "nbformat_minor": 2
}
