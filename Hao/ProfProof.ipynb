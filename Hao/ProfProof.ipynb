{
 "cells": [
  {
   "cell_type": "code",
   "execution_count": null,
   "metadata": {},
   "outputs": [],
   "source": [
    "problem_description = f\"\"\"\n",
    "Professor Proof is trying to decide which of 6 needed teaching assistant tasks he will assign to each of his 2 graduate assistants. Naturally, one assistant would probably be better at some tasks and the other assistant better at others. The following table shows his scoring of their potentials (high is good).\n",
    "Professor Proof wants to assign three tasks to each assistant, maximizing the potential of the assignment chosen. \n",
    "Since tasks 5 and 6 are related, they should be assigned to the same assistant.\n",
    "\"\"\""
   ]
  },
  {
   "cell_type": "code",
   "execution_count": null,
   "metadata": {},
   "outputs": [],
   "source": [
    "assistant_potential = {\n",
    "    0: {1: 100, 2: 85, 3: 40, 4: 45, 5: 70, 6: 82},\n",
    "    1: {1: 80, 2: 70, 3: 90, 4: 85, 5: 80, 6: 65}\n",
    "}"
   ]
  }
 ],
 "metadata": {
  "language_info": {
   "name": "python"
  }
 },
 "nbformat": 4,
 "nbformat_minor": 2
}
