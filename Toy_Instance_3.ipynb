{
 "cells": [
  {
   "cell_type": "markdown",
   "metadata": {},
   "source": [
    "# Bikini manufacturing problem\n",
    "\n",
    "ref: Exercise 4.20, Optimization in Operations Research by Ronald L.Rardin"
   ]
  },
  {
   "cell_type": "code",
   "execution_count": null,
   "metadata": {},
   "outputs": [],
   "source": [
    "problem_description = f\"\"\"\n",
    "Global Minimum manufactures bikini swimming suits. Their business is highly seasonal, with expected demands being 2800, 500, 100, and 850 dozen suits over the four quarters of next year. The company can produce 1200 dozen suits per quarter, but inventories must be built up to meet larger demands at a holding cost of $15 per dozen per quarter. Global wants to meet demand while minimizing this inventory cost.\n",
    "\"\"\""
   ]
  },
  {
   "cell_type": "code",
   "execution_count": null,
   "metadata": {},
   "outputs": [],
   "source": [
    "demands = {1: 2800, 2: 500, 3: 100, 4: 850}\n",
    "production_capacity = 1200\n",
    "holding_cost = 15"
   ]
  }
 ],
 "metadata": {
  "language_info": {
   "name": "python"
  }
 },
 "nbformat": 4,
 "nbformat_minor": 2
}
