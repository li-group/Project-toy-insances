{
 "cells": [
  {
   "cell_type": "markdown",
   "metadata": {},
   "source": [
    "### Problem: Optimal assignment for job completion (Operations Research: Models and Methods by Jensen & Bard, Exercise 2.12)\n",
    "\n",
    "Ten jobs are to be completed by three workers during the next week. Each worker has a 40-hour work week. The times for the workers to complete the jobs are shown in the table. The values in the cells assume that each job is completed by a single worker; however, jobs can be shared, with completion times being determined proportionally If no entry exists in a particular cell, it means that the corresponding job cannot be performed by the corresponding worker. Set up and solve an LP model that will determine the optimal assignment of workers to jobs. The goal is to minimize the total time required to complete all the jobs.\n",
    "\n",
    "| Workers \\ Tasks | 1  | 2 | 3 | 4  | 5  | 6  | 7  | 8  | 9 | 10 |\n",
    "|-----------------|----|---|---|----|----|----|----|----|---|----|\n",
    "| A               | -  | 7 | 3 | -  | -  | 18 | 13 | 6  | - | 9  |\n",
    "| B               | 12 | 5 | - | 12 | 4  | 22 | -  | 17 | 13| -  |\n",
    "| C               | 18 | - | 6 | 8  | 10 | -  | 19 | -  | 8 | 15 |\n",
    "\n",
    "\n",
    "\n"
   ]
  },
  {
   "cell_type": "code",
   "execution_count": 4,
   "metadata": {},
   "outputs": [],
   "source": [
    "from pyomo.environ import *\n",
    "import pyomo.environ as pe\n",
    "\n",
    "model = ConcreteModel()\n",
    "\n",
    "# Sets\n",
    "model.W = Set(initialize=['A', 'B', 'C'], doc='Workers')\n",
    "model.T = RangeSet(1, 10, doc='Tasks')\n",
    "\n",
    "# Parameters\n",
    "c = {\n",
    "    ('A',  2):  7,\n",
    "    ('A',  3):  3,\n",
    "    ('A',  6): 18,\n",
    "    ('A',  7): 13,\n",
    "    ('A',  8):  6,\n",
    "    ('A', 10):  9,\n",
    "    ('B',  1): 12,\n",
    "    ('B',  2):  5,\n",
    "    ('B',  4): 12,\n",
    "    ('B',  5):  4,\n",
    "    ('B',  6): 22,\n",
    "    ('B',  8): 17,\n",
    "    ('B',  9): 13,\n",
    "    ('C',  1): 18,\n",
    "    ('C',  3):  6,\n",
    "    ('C',  4):  8,\n",
    "    ('C',  5): 10,\n",
    "    ('C',  7): 19,\n",
    "    ('C',  9):  8,\n",
    "    ('C', 10): 15,\n",
    "}\n",
    "model.c = pe.Param(model.W, model.T, mutable=True, initialize=c, default=1000, doc='time for worker to complete the job')\n",
    "model.max_hours = pe.Param(initialize=40, mutable = True, doc='maximum hours')"
   ]
  }
 ],
 "metadata": {
  "kernelspec": {
   "display_name": "base",
   "language": "python",
   "name": "python3"
  },
  "language_info": {
   "codemirror_mode": {
    "name": "ipython",
    "version": 3
   },
   "file_extension": ".py",
   "mimetype": "text/x-python",
   "name": "python",
   "nbconvert_exporter": "python",
   "pygments_lexer": "ipython3",
   "version": "3.11.7"
  }
 },
 "nbformat": 4,
 "nbformat_minor": 2
}
