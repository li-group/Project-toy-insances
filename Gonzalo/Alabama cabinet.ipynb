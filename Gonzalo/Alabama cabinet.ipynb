{
 "cells": [
  {
   "cell_type": "markdown",
   "metadata": {},
   "source": [
    "# Alabama Cabinet\n",
    "\n",
    "ref: Exercise 2.37, Optimization in Operations Research (2nd edition) by Ronald L. Rardin"
   ]
  },
  {
   "cell_type": "markdown",
   "metadata": {},
   "source": [
    "### Problem description:\n",
    "\n",
    "Alabama Cabinet runs a sawmill producing wood panels called “blanks” for cabinetmaking. Some of the wood comes from logs sawed into boards at the company’s mill, and the remainder derives from boards purchased green (undried). Lumber from both sources must be dried in the company’s kilns before being cut into blanks.\n",
    "Following are two tables, the first of which shows the purchase price per log, yield of green lumber per log, and availability for each of the three log diameters. Each board foot of green lumber sawed from logs gives 0.09 blank. The second table shows the price, yield in blanks, and availability of the two grades of purchased green lumber.\n",
    "\n",
    "We seek a minimum cost plan for producing at least 2350 blanks per week with the current mill’s capacity to saw 1500 logs and dry 26,500 board feet of lumber each week.\n",
    "\n",
    "1. Explain why suitable decision variables for this model are <br>\n",
    "x_d = number of logs of diameter d purchased (d = 10, 15, 20) <br>\n",
    "y_g = board feet of green lumber grade g purchased (g = 1, 2) <br>\n",
    "2. Numbers xd must physically be integer (whole numbers), but it makes sense to model them as continuous. Explain why.\n",
    "3. Formulate an objective function minimizing total material purchase cost. (We assume that other costs are essentially fixed.)\n",
    "4. Formulate a main constraint assuring that the required number of blanks will be produced.\n",
    "5. Formulate 2 main constraints enforcing sawing and drying capacities.\n",
    "6. Formulate 4 upper-bound constraints on decision variables.\n",
    "7. Complete your model with a suitable system of variable-type constraints.\n",
    "8. Is your model best classified as an LP, an NLP, an ILP, or an INLP, and is it single- or multiobjective? Explain.\n",
    "9. Enter and solve your model with class optimization software."
   ]
  },
  {
   "cell_type": "markdown",
   "metadata": {},
   "source": [
    "### Data:\n",
    "\n",
    "#### Logs Purchased\n",
    "\n",
    "| Diameter | $/Log | Bd-ft   | Logs/Week  |\n",
    "|:--------:|:-------:|:-------:|:-------:|\n",
    "| 10    |  70   |  100   |  50   |\n",
    "| 15    |  200  |  240   |  25   |\n",
    "| 20    |  620  |  400   |  10   |\n",
    "\n",
    "#### Lumber Purchases\n",
    "\n",
    "| Grade | $/Bd-ft | Blanks/Bd-ft   | Bd-ft/Week  |\n",
    "|:--------:|:-------:|:-------:|:-------:|\n",
    "| 1    |  1.55   |  0.10   |  5000        |\n",
    "| 2    |  1.30   |  0.08   |  Unlimited   |"
   ]
  }
 ],
 "metadata": {
  "kernelspec": {
   "display_name": "opti_chat",
   "language": "python",
   "name": "python3"
  },
  "language_info": {
   "codemirror_mode": {
    "name": "ipython",
    "version": 3
   },
   "file_extension": ".py",
   "mimetype": "text/x-python",
   "name": "python",
   "nbconvert_exporter": "python",
   "pygments_lexer": "ipython3",
   "version": "3.9.6"
  }
 },
 "nbformat": 4,
 "nbformat_minor": 2
}
