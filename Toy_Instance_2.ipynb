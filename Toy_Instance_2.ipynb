{
 "cells": [
  {
   "cell_type": "markdown",
   "metadata": {},
   "source": [
    "# IFS Cash Flow Problem\n",
    "\n",
    "ref: Application 4.6, Optimization in Operations Research by Ronald L.Rardin"
   ]
  },
  {
   "cell_type": "code",
   "execution_count": null,
   "metadata": {},
   "outputs": [],
   "source": [
    "problem_description = f\"\"\"\n",
    "The Institutional Food Services (IFS) company is a company that that supplies food and other products to restaurants and schools.\n",
    "Since they must keep track of the coming and going of its cash accounts, borrowing where necessary and investing when wise, they want to use optimization model for cash flow management.\n",
    "\n",
    "Financial officers use the following terms to describe the cash flow in these 8 weeks:\n",
    "- s_t: projected revenue in week t from cash sales to small customers\n",
    "- r_t: projected accounts receivable revenue received in week t from large customers who buy on credit\n",
    "- p_t: projected accounts payable to IFS’s suppliers in week t\n",
    "- e_t: projected payroll, utility, and other expenses to be paid in week t\n",
    "\n",
    "Cash sales and accounts receivable produce immediate income to IFS’s checking account. \n",
    "Expenses (e_t) are immediate deductions. \n",
    "Accounts payable is not immediate, instead, it is not actually due until week t + 3, but they are discounted by 2% if paid early in week t.\n",
    "\n",
    "The financial landscape of IFS is particularly dynamic as they approach a holiday period, with significant fluctuations in the aforementioned accounts.\n",
    "IFS’s financial officer has two additional ways of dealing with the implied cash flow difficulties. \n",
    "First, the company’s bank has extended a $4 million line of credit that may be drawn upon at 0.2% interest per week. However, the bank requires at least 20% of the current amount borrowed to be maintained (without earning interest) in IFS’s checking account. The other option is investment of excess cash in short-term money markets. IFS can earn 0.1% interest per week on amounts invested in this way.\n",
    "\n",
    "Thus, the focus is to decide the following:\n",
    "- amount borrowed in week t against the line of credit\n",
    "- amount of line of credit debt paid off in week t\n",
    "- amount of accounts payable in week t delayed until week t + 3 at a loss of discounts\n",
    "- amount invested in short-term money markets during week t\n",
    "\n",
    "The financial officer wishes to minimize net total cost in interest and lost discounts while maintaining at least a $20,000 checking account safety balance in 8 weeks. Our task is to help him decide how to exercise the available options.\n",
    "\"\"\""
   ]
  },
  {
   "cell_type": "code",
   "execution_count": 2,
   "metadata": {},
   "outputs": [
    {
     "data": {
      "text/plain": [
       "{'Cash Sales': {1: 600,\n",
       "  2: 750,\n",
       "  3: 1200,\n",
       "  4: 2100,\n",
       "  5: 2250,\n",
       "  6: 180,\n",
       "  7: 330,\n",
       "  8: 540},\n",
       " 'Accounts Receivable': {1: 770,\n",
       "  2: 1260,\n",
       "  3: 1400,\n",
       "  4: 1750,\n",
       "  5: 2800,\n",
       "  6: 4900,\n",
       "  7: 5250,\n",
       "  8: 420},\n",
       " 'Accounts Payable': {1: 3200,\n",
       "  2: 5600,\n",
       "  3: 6000,\n",
       "  4: 480,\n",
       "  5: 880,\n",
       "  6: 1440,\n",
       "  7: 1600,\n",
       "  8: 2000},\n",
       " 'Expenses': {1: 350, 2: 400, 3: 550, 4: 940, 5: 990, 6: 350, 7: 350, 8: 410}}"
      ]
     },
     "execution_count": 2,
     "metadata": {},
     "output_type": "execute_result"
    }
   ],
   "source": [
    "financial_data = {\n",
    "    'Cash Sales': {1: 600, 2: 750, 3: 1200, 4: 2100, 5: 2250, 6: 180, 7: 330, 8: 540},\n",
    "    'Accounts Receivable': {1: 770, 2: 1260, 3: 1400, 4: 1750, 5: 2800, 6: 4900, 7: 5250, 8: 420},\n",
    "    'Accounts Payable': {1: 3200, 2: 5600, 3: 6000, 4: 480, 5: 880, 6: 1440, 7: 1600, 8: 2000},\n",
    "    'Expenses': {1: 350, 2: 400, 3: 550, 4: 940, 5: 990, 6: 350, 7: 350, 8: 410}\n",
    "}\n",
    "\n",
    "financial_data"
   ]
  }
 ],
 "metadata": {
  "kernelspec": {
   "display_name": "GPTenv",
   "language": "python",
   "name": "python3"
  },
  "language_info": {
   "codemirror_mode": {
    "name": "ipython",
    "version": 3
   },
   "file_extension": ".py",
   "mimetype": "text/x-python",
   "name": "python",
   "nbconvert_exporter": "python",
   "pygments_lexer": "ipython3",
   "version": "3.12.1"
  }
 },
 "nbformat": 4,
 "nbformat_minor": 2
}
