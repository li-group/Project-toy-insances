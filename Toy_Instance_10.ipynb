{
 "cells": [
  {
   "cell_type": "markdown",
   "metadata": {},
   "source": [
    "# Focus Inc. camera manufacturing site consolidation problem\n",
    "\n",
    "ref: Exercise 11.16,Optimization in Opertions Research (2nd edition) by Ronald L. Rardin"
   ]
  },
  {
   "cell_type": "markdown",
   "metadata": {},
   "source": [
    "### Problem description:\n",
    "\n",
    "Focus Inc. wants to consolidate its camera manufacturing operations at 2 of the current 4 plants. At the same time, each surviving plant will begin full 3-shift operations running 168 hours per week. The following table shows the estimated cost (in $ million) of moving operations from each current plant to each other, along with the projected number of production hours per week the moved operation would add at the new site. For example, closing operation 1 and moving it to site 3 would cost $320 million and add 70 hours per week at site 3. Formulate Focus Inc.’s problem of choosing which two sites to retain and how to move the others to minimize total moving cost as an Integer Linear Program (ILP).\n",
    "\n",
    "| From Site | To Site | 1 = Omaha | 2 = Denver | 3 = Muncie | 4 = Kent |\n",
    "|-----------|---------|-------|--------|--------|------|\n",
    "| **1 = Omaha** | Cost | 0     | 450    | 320    | 550  |\n",
    "|             | Hours | 56    | 56     | 70     | 56   |\n",
    "| **2 = Denver** | Cost | 770   | 0      | 640    | 690  |\n",
    "|             | Hours | 82    | 82     | 70     | 70   |\n",
    "| **3 = Muncie** | Cost | 810   | 770    | 0      | 660  |\n",
    "|             | Hours | 40    | 40     | 60     | 60   |\n",
    "| **4 = Kent** | Cost | 580   | 610    | 490    | 0    |\n",
    "|             | Hours | 56    | 56     | 56     | 56   |\n"
   ]
  },
  {
   "cell_type": "code",
   "execution_count": null,
   "metadata": {},
   "outputs": [],
   "source": [
    "# Data"
   ]
  }
 ],
 "metadata": {
  "kernelspec": {
   "display_name": "opti_chat",
   "language": "python",
   "name": "python3"
  },
  "language_info": {
   "codemirror_mode": {
    "name": "ipython",
    "version": 3
   },
   "file_extension": ".py",
   "mimetype": "text/x-python",
   "name": "python",
   "nbconvert_exporter": "python",
   "pygments_lexer": "ipython3",
   "version": "3.12.1"
  }
 },
 "nbformat": 4,
 "nbformat_minor": 2
}
