{
 "cells": [
  {
   "cell_type": "markdown",
   "metadata": {},
   "source": [
    "# Gotham city ambulance location planning problem\n",
    "\n",
    "ref: Exercise 5.6, Applied Integer Programming by Chen Batson Dang"
   ]
  },
  {
   "cell_type": "markdown",
   "metadata": {},
   "source": [
    "### Problem description:\n",
    "\n",
    "Gotham City has been divided into eight districts. The time (in minutes) that an ambulance takes to travel from one district to another is shown in Table 5.7. The population of each district (in thousands) is as follows—district 1: 40, district 2: 30, district 3: 35, district 4: 20, district 5:15, district 6:50, district 7:45, and district 8:60. Suppose Gotham City has 3 ambulance locations. Formulate an ILP problem to determine the locations of ambulances that maximize the number of people who live within 2 min of an ambulance.\n",
    "\n",
    "| From \\ To |  1 |  2 |  3 |  4 |  5 |  6 |  7 |  8 |\n",
    "|----------|----|----|----|----|----|----|----|----|\n",
    "|        1 |  0 |  3 |  4 |  6 |  8 |  9 |  8 | 10 |\n",
    "|        2 |  3 |  0 |  5 |  4 |  8 |  6 | 12 |  9 |\n",
    "|        3 |  4 |  5 |  0 |  2 |  2 |  3 |  5 |  7 |\n",
    "|        4 |  6 |  4 |  2 |  0 |  3 |  2 |  5 |  4 |\n",
    "|        5 |  8 |  8 |  2 |  3 |  0 |  2 |  2 |  4 |\n",
    "|        6 |  9 |  6 |  3 |  2 |  2 |  0 |  3 |  2 |\n",
    "|        7 |  8 | 12 |  5 |  5 |  2 |  3 |  0 |  2 |\n",
    "|        8 | 10 |  9 |  7 |  4 |  4 |  2 |  2 |  0 |\n"
   ]
  },
  {
   "cell_type": "code",
   "execution_count": null,
   "metadata": {},
   "outputs": [],
   "source": [
    "# Data"
   ]
  }
 ],
 "metadata": {
  "kernelspec": {
   "display_name": "opti_chat",
   "language": "python",
   "name": "python3"
  },
  "language_info": {
   "codemirror_mode": {
    "name": "ipython",
    "version": 3
   },
   "file_extension": ".py",
   "mimetype": "text/x-python",
   "name": "python",
   "nbconvert_exporter": "python",
   "pygments_lexer": "ipython3",
   "version": "3.12.1"
  }
 },
 "nbformat": 4,
 "nbformat_minor": 2
}
