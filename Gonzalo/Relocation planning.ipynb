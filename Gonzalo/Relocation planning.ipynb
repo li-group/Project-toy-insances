{
 "cells": [
  {
   "cell_type": "markdown",
   "metadata": {},
   "source": [
    "# Kitty Railroad relocation planning\n",
    "\n",
    "ref: Exercise 2.35, Optimization in Operations Research (2nd edition) by Ronald L. Rardin"
   ]
  },
  {
   "cell_type": "markdown",
   "metadata": {},
   "source": [
    "### Problem description:\n",
    "\n",
    "The Kitty Railroad is in the process of planning relocations of freight cars among the 5 regions of the country to get ready for the fall harvest. The following table shows the cost of moving a car between each pair of regions, along with the number of cars in each at present and the number needed for harvest shipping.\n",
    "\n",
    "We want to choose a reallocation plan to get the required number of cars in each region at minimum total moving cost.\n",
    "1. Briefly justify why appropriate decision variables for this problem are (i,j = 1,...,5, i different than j),<br>\n",
    "x_{i,j} = number of cars moved from region i to region j\n",
    "2. The numbers of cars x_{i,j} must physically be integer (whole numbers), but it is probably better to model them as continuous. Explain why.\n",
    "3. Assign symbolic names for the constants in the foregoing table.\n",
    "4. Write an objective function minimizing total movement cost.\n",
    "5. Write a system of 5 main constraints, assuring that the net number of cars in each region after the move will meet the need.\n",
    "6. Complete your model with an appropriate system of variable-type constraints.\n",
    "7. Is your model best classified as an LP, an NLP, an ILP, or an INLP, and is it single- or multiobjective? Explain.\n",
    "8. Enter and solve your model with class optimization software."
   ]
  },
  {
   "cell_type": "markdown",
   "metadata": {},
   "source": [
    "### Data:\n",
    "\n",
    "| From | Region 1 |   Region 2   |   Region 3   |   Region 4   |   Region 5   |\n",
    "|:--------:|:-------:|:-------:|:-------:|:-------:|:-------:|\n",
    "| 1    |   -   |  10   |  12   |  17   |  35   |\n",
    "| 2    |  10   |   -   |  18   |   8   |  46   |\n",
    "| 3    |  12   |  18   |   -   |   9   |  27   |\n",
    "| 4    |  17   |   8   |   9   |   -   |  20   |\n",
    "| 5    |  35   |  46   |  27   |  20   |   -   |\n",
    "| Present | 115 | 385 | 410 | 480 | 610 |\n",
    "| Need    | 200 | 500 | 800 | 200 | 300 |"
   ]
  }
 ],
 "metadata": {
  "kernelspec": {
   "display_name": "opti_chat",
   "language": "python",
   "name": "python3"
  },
  "language_info": {
   "codemirror_mode": {
    "name": "ipython",
    "version": 3
   },
   "file_extension": ".py",
   "mimetype": "text/x-python",
   "name": "python",
   "nbconvert_exporter": "python",
   "pygments_lexer": "ipython3",
   "version": "3.9.6"
  }
 },
 "nbformat": 4,
 "nbformat_minor": 2
}
