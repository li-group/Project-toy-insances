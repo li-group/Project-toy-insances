{
 "cells": [
  {
   "cell_type": "code",
   "execution_count": null,
   "metadata": {},
   "outputs": [],
   "source": [
    "problem_description = f\"\"\"\n",
    "To improve tax compliance, the Texas Comptroller’s staff regularly audits at corporate home offices the records of out-of-state corporations doing business in Texas. Texas is considering the opening of a series of small offices near these corporate locations to reduce the travel costs now associated with such out-of-state audits.\n",
    "There are 5 office sites under considerations and 5 corporate location needed to be audited. \n",
    "Opening an office, i, will result in a fixed cost. \n",
    "Every audit performed in each corporations, j, from a base at office, i, will be associated with a travel cost.\n",
    "It it worth noting that no part of the audits at any corporations j can be done from office i unless this office is opened at i.\n",
    "We seek a minimum total cost auditing plan that will complete the number of audits required in all 5 corporations.\n",
    "\n",
    "Thus, the focus is to decide \n",
    "- which office sites to open,\n",
    "- fraction of audits at corporate location j done from office i\n",
    "\"\"\""
   ]
  },
  {
   "cell_type": "code",
   "execution_count": 1,
   "metadata": {},
   "outputs": [
    {
     "data": {
      "text/plain": [
       "{'Tax Site': {1: {'Fixed Cost': 160,\n",
       "   'Cost to Audit of Corporate Location': {1: 0,\n",
       "    2: 0.4,\n",
       "    3: 0.8,\n",
       "    4: 0.4,\n",
       "    5: 0.8}},\n",
       "  2: {'Fixed Cost': 49,\n",
       "   'Cost to Audit of Corporate Location': {1: 0.7,\n",
       "    2: 0,\n",
       "    3: 0.8,\n",
       "    4: 0.4,\n",
       "    5: 0.4}},\n",
       "  3: {'Fixed Cost': 246,\n",
       "   'Cost to Audit of Corporate Location': {1: 0.6,\n",
       "    2: 0.4,\n",
       "    3: 0,\n",
       "    4: 0.5,\n",
       "    5: 0.4}},\n",
       "  4: {'Fixed Cost': 86,\n",
       "   'Cost to Audit of Corporate Location': {1: 0.6,\n",
       "    2: 0.4,\n",
       "    3: 0.9,\n",
       "    4: 0,\n",
       "    5: 0.4}},\n",
       "  5: {'Fixed Cost': 100,\n",
       "   'Cost to Audit of Corporate Location': {1: 0.9,\n",
       "    2: 0.4,\n",
       "    3: 0.7,\n",
       "    4: 0.4,\n",
       "    5: 0}}},\n",
       " 'Audits': {1: 200, 2: 100, 3: 300, 4: 100, 5: 200}}"
      ]
     },
     "execution_count": 1,
     "metadata": {},
     "output_type": "execute_result"
    }
   ],
   "source": [
    "audit_data = {\n",
    "    'Tax Site': {\n",
    "        1: {'Fixed Cost': 160, 'Travel Cost': {1: 0, 2: 0.4, 3: 0.8, 4: 0.4, 5: 0.8}},\n",
    "        2: {'Fixed Cost': 49, 'Travel Cost': {1: 0.7, 2: 0, 3: 0.8, 4: 0.4, 5: 0.4}},\n",
    "        3: {'Fixed Cost': 246, 'Travel Cost': {1: 0.6, 2: 0.4, 3: 0, 4: 0.5, 5: 0.4}},\n",
    "        4: {'Fixed Cost': 86, 'Travel Cost': {1: 0.6, 2: 0.4, 3: 0.9, 4: 0, 5: 0.4}},\n",
    "        5: {'Fixed Cost': 100, 'Travel Cost': {1: 0.9, 2: 0.4, 3: 0.7, 4: 0.4, 5: 0}},\n",
    "    },\n",
    "    'Audits': {1: 200, 2: 100, 3: 300, 4: 100, 5: 200}\n",
    "}\n",
    "audit_data"
   ]
  }
 ],
 "metadata": {
  "kernelspec": {
   "display_name": "GPTenv",
   "language": "python",
   "name": "python3"
  },
  "language_info": {
   "codemirror_mode": {
    "name": "ipython",
    "version": 3
   },
   "file_extension": ".py",
   "mimetype": "text/x-python",
   "name": "python",
   "nbconvert_exporter": "python",
   "pygments_lexer": "ipython3",
   "version": "3.9.16"
  }
 },
 "nbformat": 4,
 "nbformat_minor": 2
}
