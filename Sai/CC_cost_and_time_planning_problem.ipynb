{
 "cells": [
  {
   "cell_type": "markdown",
   "metadata": {},
   "source": [
    "# Construction contractor cost/time planning problem\n",
    "\n",
    "ref: Exercise 4.28,Optimization in Opertions Research (2nd edition) by Ronald L. Rardin"
   ]
  },
  {
   "cell_type": "markdown",
   "metadata": {},
   "source": [
    "### Problem description:\n",
    "\n",
    "A construction contractor has undertaken a job with 7 major tasks. Some of the tasks can begin at any time, but others have predecessors that must be completed first. The following table shows those predecessor task numbers, together with the minimum and maximum time (in days) allowed for each task, and the total cost that would be associated with accomplishing each task in its minimum and maximum times (more time usually saves expense).The contractor seeks a way to complete all work in 40 days at least total cost, assuming that the cost of each task is linearly interpolated for times between the minimum and maximum. Formulate an LP model of this time/cost planning problem and solve it using Pyomo.\n",
    "\n",
    "| j | Min. Time | Max. Time | Cost Min. | Cost Max. | Predecessor Tasks |\n",
    "|---|-----------|-----------|-----------|-----------|-------------------|\n",
    "| 1 | 6         | 12        | 1600      | 1000      | None              |\n",
    "| 2 | 8         | 16        | 2400      | 1800      | None              |\n",
    "| 3 | 16        | 24        | 2900      | 2000      | 2                 |\n",
    "| 4 | 14        | 20        | 1900      | 1300      | 1,2               |\n",
    "| 5 | 4         | 16        | 3800      | 2000      | 3                 |\n",
    "| 6 | 12        | 16        | 2900      | 2200      | 3                 |\n",
    "| 7 | 2         | 12        | 1300      | 800       | 4                 |\n"
   ]
  },
  {
   "cell_type": "code",
   "execution_count": null,
   "metadata": {},
   "outputs": [],
   "source": [
    "# Data\n",
    "\n"
   ]
  }
 ],
 "metadata": {
  "kernelspec": {
   "display_name": "opti_chat",
   "language": "python",
   "name": "python3"
  },
  "language_info": {
   "codemirror_mode": {
    "name": "ipython",
    "version": 3
   },
   "file_extension": ".py",
   "mimetype": "text/x-python",
   "name": "python",
   "nbconvert_exporter": "python",
   "pygments_lexer": "ipython3",
   "version": "3.12.1"
  }
 },
 "nbformat": 4,
 "nbformat_minor": 2
}
