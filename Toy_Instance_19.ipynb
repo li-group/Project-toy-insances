{
 "cells": [
  {
   "cell_type": "markdown",
   "metadata": {},
   "source": [
    "# Engineering consulting firm project selection problem\n",
    "\n",
    "ref: Exercise 2.29, Optimization in Operations Research by Ronald L. Rardin"
   ]
  },
  {
   "cell_type": "markdown",
   "metadata": {},
   "source": [
    "### Project Description\n",
    "\n",
    "A small engineering consulting firm is establishing its plan for the next year. The director and the three partners are to meet to decide which projects to pursue. Preliminary research has been done on eight projects. The expected profit for each project is given in the following table together with the number of person-days of background prepaation each will require and the computer processing unit(CPU) time (in hours) each will use. Excluding downtime, it is estimated that 1000 CPU hours will be available through the year. Presently there are 10 engineers (including the director and the partners); each works 240 days per year. At most three engineers could be\n",
    "let go, and management does not want to hire any new engineers for next year, due to market uncertainties. A minimum of 3 projects need to be selected, so each partner will be in charge of at least one project for the year. The director has four favorite projects (3, 4, 5,and 8), and the company needs to select at least one of these. The firm wishes to formulate an optimization model to determine which projects to undertake assuming that projects must be selected on an all-or-nothing basis.\n",
    "\n",
    "| Project | Profit | Person-Days | CPU |\n",
    "| :---: | :---: | :---: | :---: |\n",
    "| 1 | 2.1 | 550 | 200 |\n",
    "| 2 | 0.5 | 400 | 150 |\n",
    "| 3 | 3.0 | 300 | 400 |\n",
    "| 4 | 2.0 | 350 | 450 |\n",
    "| 5 | 1.0 | 450 | 300 |\n",
    "| 6 | 1.5 | 500 | 150 |\n",
    "| 7 | 0.6 | 350 | 200 |\n",
    "| 8 | 1.8 | 200 | 600 |"
   ]
  },
  {
   "cell_type": "code",
   "execution_count": null,
   "metadata": {
    "vscode": {
     "languageId": "plaintext"
    }
   },
   "outputs": [],
   "source": [
    "# Data"
   ]
  }
 ],
 "metadata": {
  "language_info": {
   "name": "python"
  }
 },
 "nbformat": 4,
 "nbformat_minor": 2
}
