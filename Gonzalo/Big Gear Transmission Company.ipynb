{
 "cells": [
  {
   "cell_type": "markdown",
   "metadata": {},
   "source": [
    "# Big Gear Transmission Company\n",
    "\n",
    "ref: Exercise 4.16, Optimization in Operations Research (2nd edition) by Ronald L. Rardin"
   ]
  },
  {
   "cell_type": "markdown",
   "metadata": {},
   "source": [
    "### Problem description:\n",
    "\n",
    "The Big Gear (BG) transmission company buys and distributes replacement transmissions for large, 18-wheeler trucks. For the next 4 months, the company anticipates demands of 100, 130, 95, and 300 units, respectively. During the first month, units can be purchased from BG’s supplier at a cost of ($)12K each, but thereafter the price goes to ($)14K per transmission. One order will be placed at the beginning of each month, and goods arrive immediately. Units can be held in the Big Gear warehouse at a cost of ($)1.2K per unit held per month, but there is no starting inventory. Naturally, the company wants to meet demand over the finite 4-month horizon at minimum total cost.\n",
    "\n",
    "1. Briefly justify why appropriate (nonnegative) decision variables for an LP model of BG’s problem are numbers of units x_t purchased each month and inventory ht held during each month t. <br>\n",
    "w_t =  number of new tractors purchased in period t\n",
    "2. Clearly, BG can only implement solutions involving integer numbers of transmissions. Briefly explain why it still makes sense to represent the numbers of transmissions as continuous variables in a model of their challenge.\n",
    "3. Formulate BG’s problem as a time-phased finite-horizon linear program over the decision variables of part 1. Assume all demand occurs on the last day of the month. Be sure to annotate each objective function and constraint with a few words indicating its meaning.\n",
    "4. Enter and solve your model with class optimization software."
   ]
  }
 ],
 "metadata": {
  "kernelspec": {
   "display_name": "opti_chat",
   "language": "python",
   "name": "python3"
  },
  "language_info": {
   "codemirror_mode": {
    "name": "ipython",
    "version": 3
   },
   "file_extension": ".py",
   "mimetype": "text/x-python",
   "name": "python",
   "nbconvert_exporter": "python",
   "pygments_lexer": "ipython3",
   "version": "3.9.6"
  }
 },
 "nbformat": 4,
 "nbformat_minor": 2
}
