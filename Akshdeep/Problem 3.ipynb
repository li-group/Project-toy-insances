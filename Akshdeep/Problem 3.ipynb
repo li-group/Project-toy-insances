{
 "cells": [
  {
   "cell_type": "markdown",
   "metadata": {},
   "source": [
    " ###  Problem: Shift scheduling LP, Optimization in Operations Research (OIOR), Exercise 4.14\n",
    "\n",
    " Mama’s Kitchen serves from 5:30 A.M. each morning until 1:30 P.M. Tables are set and cleared by busers working 4-hour shifts beginning on the hour from 5 A.M. through 10 A.M. Most are college students who hate to get up in the morning, so Mama’s pays \\$ 7 per hour for the $5$, $6$, and $7$ A.M. shifts, $\\text{and}$ \\$ $6$ per hour for all others. The manager seeks a minimum cost staffing plan that will have 2 busers on duty for the hour beginning at 5 A.M., plus 3, 5, 5, 3, 2, 4, 6 and 3 on duty for the hours to follow.\n",
    "\n",
    "Formulate a shift scheduling LP to select an optimal staffing plan.\n"
   ]
  },
  {
   "cell_type": "code",
   "execution_count": null,
   "metadata": {},
   "outputs": [],
   "source": []
  }
 ],
 "metadata": {
  "language_info": {
   "name": "python"
  }
 },
 "nbformat": 4,
 "nbformat_minor": 2
}
