{
 "cells": [
  {
   "cell_type": "markdown",
   "metadata": {},
   "source": [
    "# Amercian Edwards Laboratories (AEL) artifical human heart valves purchase planning problem\n",
    "\n",
    "ref: Exercise 4.26,Optimization in Opertions Research (2nd edition) by Ronald L. Rardin"
   ]
  },
  {
   "cell_type": "markdown",
   "metadata": {},
   "source": [
    "### Problem description:\n",
    "\n",
    "The American Edwards Laboratories (AEL) manufactures artificial human heart valves from pig hearts. One of the things making planning complex is that the size of pig hearts is highly variable, depending on breed, age when slaughtered, feed mix, and so on. The following (fictitious) table shows the fraction of hearts from suppliers j = 1,c, 5 yielding each of the valve sizes i = 1,c, 7, along with the maximum quantity available from each supplier per week and the unit cost of hearts obtained. AEL wants to decide how to purchase hearts to meet weekly requirements of 20 size 1, 30 size 2, 120 size 3, 200 size 4, 150 size 5, 60 size 6, and 45 size 7 valves at minimum total cost. Formulate an LP model of this heart purchase planning problem and solve it using Pyomo.\n",
    "\n",
    "| Size/Supplier |   1  |   2  |   3  |   4  |   5  |\n",
    "|---------------|------|------|------|------|------|\n",
    "| 1             | 0.4  | 0.1  |  -   |  -   |  -   |\n",
    "| 2             | 0.4  | 0.2  |  -   |  -   |  -   |\n",
    "| 3             | 0.2  | 0.3  | 0.4  | 0.2  |  -   |\n",
    "| 4             |  -   | 0.2  | 0.3  | 0.2  |  -   |\n",
    "| 5             |  -   | 0.2  | 0.3  | 0.2  | 0.2  |\n",
    "| 6             |  -   |  -   |  -   | 0.2  | 0.3  |\n",
    "| 7             |  -   |  -   |  -   | 0.2  | 0.5  |\n",
    "| Availability  | 500  | 330  | 150  | 650  | 300  |\n",
    "| Cost          | 2.5  | 3.2  | 3.0  | 2.1  | 3.9  |\n"
   ]
  },
  {
   "cell_type": "code",
   "execution_count": null,
   "metadata": {},
   "outputs": [],
   "source": [
    "# Data\n",
    "\n"
   ]
  }
 ],
 "metadata": {
  "kernelspec": {
   "display_name": "opti_chat",
   "language": "python",
   "name": "python3"
  },
  "language_info": {
   "codemirror_mode": {
    "name": "ipython",
    "version": 3
   },
   "file_extension": ".py",
   "mimetype": "text/x-python",
   "name": "python",
   "nbconvert_exporter": "python",
   "pygments_lexer": "ipython3",
   "version": "3.12.1"
  }
 },
 "nbformat": 4,
 "nbformat_minor": 2
}
