{
 "cells": [
  {
   "cell_type": "markdown",
   "metadata": {},
   "source": [
    "# Cattle feed problem\n",
    "\n",
    "ref: Exercise 4.3, Optimization in Operations Research (2nd edition) by Ronald L. Rardin"
   ]
  },
  {
   "cell_type": "markdown",
   "metadata": {},
   "source": [
    "### Problem description:\n",
    "\n",
    "Cattle feed can be mixed from oats, corn, alfalfa, and peanut hulls. The following table shows the current cost per ton (in dollars) of each of these ingredients, together with the percentage of recommended daily allowances for protein, fat, and fiber that a serving of it fulfills.\n",
    "\n",
    "We want to find a minimum cost way to produce feed that statisfies at least 60% of the daily allowance for protein and fiber while not exceeding 60% of the fat allowance."
   ]
  },
  {
   "cell_type": "markdown",
   "metadata": {},
   "source": [
    "### Data:\n",
    "\n",
    "| Macro | Oats | Corn   | Alfalfa  |  Hulls   |\n",
    "|:--------:|:-------:|:-------:|:-------:|:-------:|\n",
    "| %Protein  |  60   |  80   |  55   |  40   |\n",
    "| %Fat      |  50   |  70   |  40   | 100   |\n",
    "| %Fiber    |  90   |  30   |  60   |  80   |\n",
    "| Cost      | 200   | 150   | 100   | 75    |"
   ]
  }
 ],
 "metadata": {
  "kernelspec": {
   "display_name": "opti_chat",
   "language": "python",
   "name": "python3"
  },
  "language_info": {
   "codemirror_mode": {
    "name": "ipython",
    "version": 3
   },
   "file_extension": ".py",
   "mimetype": "text/x-python",
   "name": "python",
   "nbconvert_exporter": "python",
   "pygments_lexer": "ipython3",
   "version": "3.9.6"
  }
 },
 "nbformat": 4,
 "nbformat_minor": 2
}
