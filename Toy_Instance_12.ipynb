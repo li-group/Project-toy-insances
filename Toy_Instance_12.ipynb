{
 "cells": [
  {
   "cell_type": "markdown",
   "metadata": {},
   "source": [
    "# Expansion of the Brisbane Airport\n",
    "\n",
    "ref: Exercise 2.30, Optimization in Operations Research (2nd edition) by Ronald L. Rardin"
   ]
  },
  {
   "cell_type": "markdown",
   "metadata": {},
   "source": [
    "### Problem description:\n",
    "\n",
    "A major expansion of the Brisbane airport will require moving substantial quantities of earth from 4 sites where it is surplus to 7 locations where it is needed. The following table shows the haul distances (hundreds of meters) between points, as well as the quantity available (m^3) at each surplus site. Quantities needed are 247 cubic meters at the extension, 394 at the dry pond, 265 along roads, 105 in the parking area, 90 at the fire station, 85 in the industrial park, and 145 along the perimeter road. The site engineer wishes to compute a minimum total distance times volume plan for accomplishing the required earth moving."
   ]
  },
  {
   "cell_type": "markdown",
   "metadata": {},
   "source": [
    "### Data:\n",
    "| Need Site          | Apron | Surplus Site <br> Term. | Surplus Site <br> Cargo | Surplus Site <br> Access |\n",
    "|--------------------|------:|------:|------:|-------:|\n",
    "| Extension          |    26 |    28 |    20 |     26 |\n",
    "| Dry pond           |    12 |    14 |    26 |     10 |\n",
    "| Roads              |    10 |    12 |    20 |      4 |\n",
    "| Parking            |    18 |    20 |     2 |     16 |\n",
    "| Fire station       |    11 |    13 |     6 |     24 |\n",
    "| Industrial park    |     8 |    10 |    22 |     14 |\n",
    "| Perimeter road     |    20 |    22 |    18 |     21 |\n",
    "| Quantity available |   660 |   301 |   271 |     99 |"
   ]
  }
 ],
 "metadata": {
  "kernelspec": {
   "display_name": "opti_chat",
   "language": "python",
   "name": "python3"
  },
  "language_info": {
   "codemirror_mode": {
    "name": "ipython",
    "version": 3
   },
   "file_extension": ".py",
   "mimetype": "text/x-python",
   "name": "python",
   "nbconvert_exporter": "python",
   "pygments_lexer": "ipython3",
   "version": "3.9.6"
  }
 },
 "nbformat": 4,
 "nbformat_minor": 2
}
