{
 "cells": [
  {
   "cell_type": "markdown",
   "metadata": {},
   "source": [
    "# Pipeline inspection problem\n",
    "\n",
    "ref: Chapter 6 Exercise 6, Types of Mixed Integer Linear Programming Problems by Joseph Kalrath"
   ]
  },
  {
   "cell_type": "markdown",
   "metadata": {},
   "source": [
    "### Problem description:\n",
    "\n",
    "A company has a series of pipelines laid under the factory floor. The floor consists\n",
    "of a series of heavy square slabs. It is desired to inspect each pipeline and this\n",
    "can be done if the company lifts one of the slabs directly above each pipeline. with pipelines lying under the five slab groups {2,3,4}, {7,16,17,18}, {10,11,12},\n",
    "{13,14}, and {25,34,33,32}. When a slab is lifted it suffers damage, as do all other slabs that touch it (unless they touch diagonally). The company wishes to minimize the total number of slabs damaged when all pipelines have been inspected.\n",
    "Formulate the problem as ILP and solve using Pyomo.\n",
    "\n",
    "The layout of slabs is as shown:\n",
    "\n",
    "|  1 |  2 |  3 |  4 |  5 |  6 |  7 |  8 |  9 |\n",
    "|---|---|---|---|---|---|---|---|---|\n",
    "| 10 | 11 | 12 | 13 | 14 | 15 | 16 | 17 | 18 |\n",
    "| 19 | 20 | 21 | 22 | 23 | 24 | 25 | 26 | 27 |\n",
    "| 28 | 29 | 30 | 31 | 32 | 33 | 34 | 35 | 36 |\n"
   ]
  },
  {
   "cell_type": "code",
   "execution_count": null,
   "metadata": {},
   "outputs": [],
   "source": [
    "# Data"
   ]
  }
 ],
 "metadata": {
  "language_info": {
   "name": "python"
  }
 },
 "nbformat": 4,
 "nbformat_minor": 2
}
