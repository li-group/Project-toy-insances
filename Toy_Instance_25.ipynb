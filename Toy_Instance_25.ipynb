{
 "cells": [
  {
   "cell_type": "markdown",
   "metadata": {},
   "source": [
    "# Silo state IE faculty team formation problem\n",
    "\n",
    "ref: Exercise 10.53,Optimization in Opertions Research (2nd edition) by Ronald L. Rardin"
   ]
  },
  {
   "cell_type": "markdown",
   "metadata": {},
   "source": [
    "# Problem description:\n",
    "\n",
    "The Silo State IE faculty is dividing its 12 members into 4 teams of 3 to develop ideas for a long-term strategic plan. Like all faculties, the professors are not all equally compatible with each other. The table below provides a compatibility score (0 bad to 100 good) for each possible pair.\n",
    "\n",
    "|        | Prof 2 | Prof 3 | Prof 4 | Prof 5 | Prof 6 | Prof 7 | Prof 8 | Prof 9 | Prof 10 | Prof 11 | Prof 12 |\n",
    "|--------|--------|--------|--------|--------|--------|--------|--------|--------|---------|---------|---------|\n",
    "| Prof 1 | 21     | 61     | 99     | 54     | 75     | 27     | 64     | 70     | 99      | 58      | 88      |\n",
    "| Prof 2 |        | 45     | 14     | 81     | 55     | 78     | 73     | 58     | 5       | 13      | 9       |\n",
    "| Prof 3 |        |        | 44     | 27     | 41     | 31     | 53     | 3       | 36      | 0       | 10      |\n",
    "| Prof 4 |        |        |        | 11     | 3      | 46     | 29     | 26      | 30      | 6       | 11      |\n",
    "| Prof 5 |        |        |        |        | 43     | 56     | 52     | 93      | 73      | 0       | 87      |\n",
    "| Prof 6 |        |        |        |        |        | 14     | 53     | 34      | 92      | 13      | 18      |\n",
    "| Prof 7 |        |        |        |        |        |        | 38     | 27      | 68      | 27      | 18      |\n",
    "| Prof 8 |        |        |        |        |        |        |         | 7      | 49      | 15      | 94      |\n",
    "| Prof 9 |        |        |        |        |        |        |         |         | 35      | 32      | 53      |\n",
    "| Prof 10|        |        |        |        |        |        |         |         |         | 8       | 12      |\n",
    "| Prof 11|        |        |        |        |        |        |         |         |         |         |10      |\n",
    "\n",
    "\n",
    "Formulate this team formation task as a binary ILP and solve it using Pyomo."
   ]
  },
  {
   "cell_type": "code",
   "execution_count": null,
   "metadata": {},
   "outputs": [],
   "source": [
    "# Data"
   ]
  }
 ],
 "metadata": {
  "language_info": {
   "name": "python"
  }
 },
 "nbformat": 4,
 "nbformat_minor": 2
}
