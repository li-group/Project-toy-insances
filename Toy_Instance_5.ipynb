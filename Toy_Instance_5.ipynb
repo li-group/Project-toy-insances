{
 "cells": [
  {
   "cell_type": "markdown",
   "metadata": {},
   "source": [
    "# Lancaster City Water Distribution System Problem\n",
    "\n",
    "ref: Exercise 2.28, Optimization in Operations Research by Ronald L.Rardin"
   ]
  },
  {
   "cell_type": "code",
   "execution_count": null,
   "metadata": {},
   "outputs": [],
   "source": [
    "problem_description = f\"\"\"\n",
    "The city of Lancaster’s water distribution system has 3 wells for water supply. \n",
    "There are 10 pumps at these 3 wells. It is estimated that a pumping rate of 10,000 gallons per minute is needed to satisfy the city’s total water demand. \n",
    "There are limits on how much water can be pumped from each well: 3000 gal/min from well 1; 2500 gal/min from well 2; 7000 gal/min from well 3. \n",
    "Each pump also has a maximum pumping capacity and is labeled with the well it is associated with.\n",
    "Each pump is associated with an operational cost proportional to pumping rate, and the goal is to minimize the cost of the pumping plan selected.\n",
    "\"\"\""
   ]
  },
  {
   "cell_type": "code",
   "execution_count": null,
   "metadata": {},
   "outputs": [],
   "source": [
    "total_water_demand = 10000\n",
    "well_limit = {1: 3000, 2: 2500, 3: 7000}\n",
    "pump_limit = {1: 1100, 2: 1100, 3: 1100, 4: 1500, 5: 1500, 6: 1500, 7: 2500, 8: 2500, 9: 2500, 10: 2500}\n",
    "well2pump = {1: 1, 2:2, 3:3, 4:1, 5:2, 6:3, 7:1, 8:2, 9:3, 10:3}\n",
    "cost = {1: 0.05, 2: 0.05, 3: 0.05, 4: 0.07, 5: 0.07, 6: 0.07, 7: 0.13, 8: 0.13, 9: 0.13, 10: 0.13}\n"
   ]
  }
 ],
 "metadata": {
  "language_info": {
   "name": "python"
  }
 },
 "nbformat": 4,
 "nbformat_minor": 2
}
